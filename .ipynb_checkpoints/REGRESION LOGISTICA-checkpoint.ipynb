{
 "cells": [
  {
   "cell_type": "code",
   "execution_count": 1,
   "id": "fe45a22e",
   "metadata": {},
   "outputs": [
    {
     "ename": "ModuleNotFoundError",
     "evalue": "No module named 'sklearn'",
     "output_type": "error",
     "traceback": [
      "\u001b[1;31m---------------------------------------------------------------------------\u001b[0m",
      "\u001b[1;31mModuleNotFoundError\u001b[0m                       Traceback (most recent call last)",
      "Input \u001b[1;32mIn [1]\u001b[0m, in \u001b[0;36m<cell line: 1>\u001b[1;34m()\u001b[0m\n\u001b[1;32m----> 1\u001b[0m \u001b[38;5;28;01mfrom\u001b[39;00m \u001b[38;5;21;01msklearn\u001b[39;00m\u001b[38;5;21;01m.\u001b[39;00m\u001b[38;5;21;01mdatasets\u001b[39;00m \u001b[38;5;28;01mimport\u001b[39;00m make_moons\n\u001b[0;32m      2\u001b[0m \u001b[38;5;28;01mfrom\u001b[39;00m \u001b[38;5;21;01msklearn\u001b[39;00m\u001b[38;5;21;01m.\u001b[39;00m\u001b[38;5;21;01mdatasets\u001b[39;00m \u001b[38;5;28;01mimport\u001b[39;00m make_circles\n\u001b[0;32m      4\u001b[0m \u001b[38;5;28;01mimport\u001b[39;00m \u001b[38;5;21;01mnumpy\u001b[39;00m \u001b[38;5;28;01mas\u001b[39;00m \u001b[38;5;21;01mnp\u001b[39;00m\n",
      "\u001b[1;31mModuleNotFoundError\u001b[0m: No module named 'sklearn'"
     ]
    }
   ],
   "source": [
    "from sklearn.datasets import make_moons\n",
    "from sklearn.datasets import make_circles\n",
    "\n",
    "import numpy as np\n",
    "X, Y = make_circles(n_samples = 1000, factor = 0.5, noise = 0.05)\n",
    "\n",
    "Y = Y.reshape(X.shape[0],1)\n",
    "print(X.shape)\n",
    "print(Y.shape)"
   ]
  },
  {
   "cell_type": "code",
   "execution_count": null,
   "id": "a9b192d7",
   "metadata": {},
   "outputs": [],
   "source": [
    "import matplotlib.pyplot as plt\n",
    "\n",
    "plt.figure(figsize = (7,7))\n",
    "plt.scatter(X[Y[:,0] == 1,0],X[Y[:,0] == 1,1], color = 'skyblue')\n",
    "plt.scatter(X[Y[:,0] == 0,0],X[Y[:,0] == 0,1], color = 'brown')\n",
    "plt.show()"
   ]
  },
  {
   "cell_type": "code",
   "execution_count": null,
   "id": "dbc1e0d4",
   "metadata": {},
   "outputs": [],
   "source": [
    "#REGRESION LOGISTICA CON DOS VARIABLES X1 Y X2 ---> O'X = a + bX1 + cX2\n",
    "#Suponiendo que una linea recta puede acomodarse a los datos\n",
    "\n",
    "x_train = np.ones((X.shape[0],1))\n",
    "x_train = np.append(x_train, X, axis = 1)\n",
    "\n",
    "m = x_train.shape[0]\n",
    "\n",
    "def sigmoid(z):\n",
    "  return 1/(1+np.exp(-z))\n",
    "\n",
    "param = np.zeros((3,1))\n",
    "J = []\n",
    "lr = 0.004\n",
    "\n",
    "import time\n",
    "from IPython.display import clear_output\n",
    "\n",
    "for i in range(0,100):\n",
    "  h_x = sigmoid(x_train @ param)\n",
    "  e = -np.mean(Y*np.log(h_x) + (1-Y)*np.log(1-h_x))\n",
    "  J.append(e)\n",
    "  for i in range(param.shape[0]):\n",
    "    param[i] = param[i] - lr*np.mean((h_x-Y)*x_train[:,i].reshape((m,1)))\n",
    "\n",
    "  clear_output(wait = True)\n",
    "  plt.show()\n",
    "  plt.plot(range(len(J)), J)\n",
    "  print(\"Error =\",J[-1])\n",
    "  plt.show()\n",
    "  time.sleep(0.5)"
   ]
  },
  {
   "cell_type": "code",
   "execution_count": null,
   "id": "55b87519",
   "metadata": {},
   "outputs": [],
   "source": [
    "#REGRESION LOGÍSTICA CON EL SIGUIENTE MODELO --> h(X) = a + bX1^2 + cX2^2\n",
    "print(x_train)\n",
    "X_train = x_train\n",
    "x_train[:,1] = x_train[:,1]*x_train[:,1]\n",
    "x_train[:,2] = x_train[:,2]*x_train[:,2]\n",
    "print(x_train)"
   ]
  },
  {
   "cell_type": "code",
   "execution_count": null,
   "id": "404f7a22",
   "metadata": {},
   "outputs": [],
   "source": [
    "param_c = np.zeros((3,1))\n",
    "JC = []\n",
    "lrc = 0.004\n",
    "\n",
    "import time\n",
    "from IPython.display import clear_output\n",
    "\n",
    "for i in range(0,100):\n",
    "  h_xc = sigmoid(x_train @ param_c)\n",
    "  ec = -np.mean(Y*np.log(h_xc) + (1-Y)*np.log(1-h_xc))\n",
    "  JC.append(ec)\n",
    "  for i in range(param_c.shape[0]):\n",
    "    param_c[i] = param_c[i] - lrc*np.mean((h_xc-Y)*x_train[:,i].reshape((m,1)))\n",
    "\n",
    "  clear_output(wait = True)\n",
    "  plt.show()\n",
    "  plt.plot(range(len(JC)), JC)\n",
    "  print(\"Error =\",JC[-1])\n",
    "  plt.show()\n",
    "  time.sleep(0.5)"
   ]
  },
  {
   "cell_type": "code",
   "execution_count": null,
   "id": "1bfaf803",
   "metadata": {},
   "outputs": [],
   "source": [
    "plt.figure(figsize = (8,8))\n",
    "plt.scatter(X[Y[:,0] == 1,0],X[Y[:,0] == 1,1], color = 'skyblue')\n",
    "plt.scatter(X[Y[:,0] == 0,0],X[Y[:,0] == 0,1], color = 'brown')\n",
    "z = np.linspace(-1,1,10000)\n",
    "plt.plot(z, np.sqrt((-param_c[0] - param_c[1]*np.square(z))/param_c[2]) , color = 'black')\n",
    "plt.plot(z, -np.sqrt((-param_c[0] - param_c[1]*np.square(z))/param_c[2]) , color = 'black')\n",
    "#plt.plot(X_train[:,1], np.sqrt((-param_c[0] - param_c[1]*np.square(X_train[:,1]))/param_c[2]) , color = 'black')\n",
    "#(-param[0] - param[1]*x_train[:,1])/param[2]\n",
    "#np.sqrt((-param[0] - param[1]*np.square(x_train[:,1]))/param[2])) \n",
    "plt.show()"
   ]
  }
 ],
 "metadata": {
  "kernelspec": {
   "display_name": "Python 3 (ipykernel)",
   "language": "python",
   "name": "python3"
  },
  "language_info": {
   "codemirror_mode": {
    "name": "ipython",
    "version": 3
   },
   "file_extension": ".py",
   "mimetype": "text/x-python",
   "name": "python",
   "nbconvert_exporter": "python",
   "pygments_lexer": "ipython3",
   "version": "3.9.12"
  }
 },
 "nbformat": 4,
 "nbformat_minor": 5
}

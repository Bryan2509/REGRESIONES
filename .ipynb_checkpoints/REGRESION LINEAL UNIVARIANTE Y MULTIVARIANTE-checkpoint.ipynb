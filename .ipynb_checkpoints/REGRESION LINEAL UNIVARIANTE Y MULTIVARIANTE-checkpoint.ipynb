{
 "cells": [
  {
   "cell_type": "code",
   "execution_count": null,
   "id": "2af533d8",
   "metadata": {},
   "outputs": [],
   "source": [
    "import pandas as pd\n",
    "import numpy as np\n",
    "\n",
    "df = pd.read_csv(\"Boston.csv\")\n",
    "\n",
    "#df.drop([\"Unnamed: 0\"], axis = 1)\n",
    "df.info()"
   ]
  },
  {
   "cell_type": "code",
   "execution_count": null,
   "id": "84326f5d",
   "metadata": {},
   "outputs": [],
   "source": [
    "#REGRESION LINEAL UNIVARIANTE (n = 1)\n",
    "X = df[\"dis\"].to_numpy()\n",
    "Y = df['medv'].to_numpy()\n",
    "m = np.shape(X)[0]\n",
    "\n",
    "X = X.reshape((m,1)) # orden 506x1\n",
    "Y = Y.reshape((m,1)) # orden 506x1\n",
    "\n",
    "import matplotlib.pyplot as plt\n",
    "\n",
    "plt.figure(figsize=(10,10))\n",
    "plt.scatter(X,Y)\n",
    "plt.show()"
   ]
  },
  {
   "cell_type": "code",
   "execution_count": null,
   "id": "1f7d992b",
   "metadata": {},
   "outputs": [],
   "source": [
    "x_train = np.ones((m,1))\n",
    "x_train = np.append(x_train, X, axis=1)\n",
    "\n",
    "y_train = Y"
   ]
  },
  {
   "cell_type": "code",
   "execution_count": null,
   "id": "3d69632d",
   "metadata": {},
   "outputs": [],
   "source": [
    "#CON REGULARIZACIÓN\n",
    "parameters = np.zeros((2,1))\n",
    "lamnda = 0.1\n",
    "\n",
    "import time\n",
    "from IPython.display import clear_output\n",
    "\n",
    "lr = 0.1\n",
    "J = []\n",
    "for i in range(0,200):\n",
    "  h_x = x_train @ parameters\n",
    "  e = np.mean((h_x - y_train)**2 + lamnda*(np.sum(parameters)-parameters[0]))/2\n",
    "  J.append(e)\n",
    "  parameters[0] = parameters[0] - lr*np.mean(h_x - y_train)\n",
    "  parameters[1] = parameters[1]*(1-lr*(lamnda/m)) - lr*np.mean((h_x - y_train)*x_train[:,1].reshape((m,1)))\n",
    "\n",
    "  clear_output(wait = True)\n",
    "  plt.show()\n",
    "  plt.plot(range(len(J)), J)\n",
    "  print(\"Error =\",J[-1])\n",
    "  plt.show()\n",
    "  time.sleep(0.5)"
   ]
  },
  {
   "cell_type": "code",
   "execution_count": null,
   "id": "f6e1371f",
   "metadata": {},
   "outputs": [],
   "source": [
    "plt.figure(figsize = (15,15))\n",
    "plt.scatter(X,Y)\n",
    "plt.plot(X, x_train @ parameters, color = \"green\")\n",
    "plt.show()\n",
    "print(parameters)"
   ]
  },
  {
   "cell_type": "code",
   "execution_count": null,
   "id": "d2c8cc9e",
   "metadata": {},
   "outputs": [],
   "source": [
    "#REGRESION LINEAL CON MODELO DE LA FORMA  --->  H(X) = A + BX + CX^2\n",
    "\n",
    "print(x_train)\n",
    "x_reg = np.append(x_train, np.square(x_train[:,1]).reshape((m,1)), axis = 1)\n",
    "\n",
    "y_reg = y_train\n",
    "print(x_reg)"
   ]
  },
  {
   "cell_type": "code",
   "execution_count": null,
   "id": "2cabbf2f",
   "metadata": {},
   "outputs": [],
   "source": [
    "teta = np.zeros((3,1))\n",
    "ta = 0.001\n",
    "la = 0.5\n",
    "\n",
    "import time\n",
    "from IPython.display import clear_output\n",
    "\n",
    "JR = []\n",
    "for i in range(0,200):\n",
    "  h_xr = x_reg @ teta\n",
    "  er = np.mean((h_xr - y_reg)**2 + la*(np.sum(teta)-teta[0]))/2\n",
    "  JR.append(er)\n",
    "  teta[0] = teta[0] - ta*np.mean(h_xr - y_reg)\n",
    "  teta[1] = teta[1]*(1-ta*(la/m)) - ta*np.mean((h_xr - y_reg)*x_reg[:,1].reshape((m,1)))\n",
    "  teta[2] = teta[2]*(1-ta*(la/m)) - ta*np.mean((h_xr - y_reg)*x_reg[:,2].reshape((m,1)))\n",
    "\n",
    "  clear_output(wait = True)\n",
    "  plt.show()\n",
    "  plt.plot(range(len(JR)), JR)\n",
    "  print(\"Error =\",JR[-1])\n",
    "  plt.show()\n",
    "  time.sleep(0.5)"
   ]
  },
  {
   "cell_type": "code",
   "execution_count": null,
   "id": "0dda90f4",
   "metadata": {},
   "outputs": [],
   "source": [
    "\n",
    "z = np.linspace(1,13,10000)\n",
    "plt.figure(figsize = (10,10))\n",
    "plt.scatter(X,Y)\n",
    "plt.plot(z, teta[0]+teta[1]*z + teta[2]*np.sqrt(z), color = \"green\")\n",
    "plt.show()"
   ]
  }
 ],
 "metadata": {
  "kernelspec": {
   "display_name": "Python 3 (ipykernel)",
   "language": "python",
   "name": "python3"
  },
  "language_info": {
   "codemirror_mode": {
    "name": "ipython",
    "version": 3
   },
   "file_extension": ".py",
   "mimetype": "text/x-python",
   "name": "python",
   "nbconvert_exporter": "python",
   "pygments_lexer": "ipython3",
   "version": "3.9.12"
  }
 },
 "nbformat": 4,
 "nbformat_minor": 5
}
